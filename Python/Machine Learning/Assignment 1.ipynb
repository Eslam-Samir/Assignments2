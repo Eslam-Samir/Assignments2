{
 "cells": [
  {
   "cell_type": "code",
   "execution_count": 1,
   "metadata": {
    "collapsed": true
   },
   "outputs": [],
   "source": [
    "import numpy as np"
   ]
  },
  {
   "cell_type": "markdown",
   "metadata": {},
   "source": [
    "# Question 1"
   ]
  },
  {
   "cell_type": "code",
   "execution_count": 2,
   "metadata": {
    "collapsed": true
   },
   "outputs": [],
   "source": [
    "def Discriminant(x, mu, covariance, probability):\n",
    "    x_mu = np.subtract(x, mu)                                   # x - mu \n",
    "    x_mu_t = np.transpose(x_mu)                                 # (x - mu)t\n",
    "    covariance_inverse = np.linalg.inv(covariance)              # covariance ^ -1\n",
    "    d = mu.shape[0]                                             # num of dimensions \n",
    "    det = np.linalg.det(covariance)                             # | covariance |\n",
    "    # g(x):\n",
    "    disc = -0.5 * np.dot(x_mu_t, np.dot(covariance_inverse, x_mu)) - (d / 2) * np.log(np.pi / 2) - 0.5 * np.log(det) + np.log(probability)\n",
    "    return disc"
   ]
  },
  {
   "cell_type": "markdown",
   "metadata": {},
   "source": [
    "# Question 2"
   ]
  },
  {
   "cell_type": "code",
   "execution_count": 3,
   "metadata": {
    "collapsed": true
   },
   "outputs": [],
   "source": [
    "def Mahalanobis_Distance(x, mu, covariance):\n",
    "    x_mu = np.subtract(x, mu)                                   \n",
    "    x_mu_t = np.transpose(x_mu)\n",
    "    covariance_inverse = np.linalg.inv(covariance)\n",
    "    distance = np.dot(x_mu_t, np.dot(covariance_inverse, x_mu))\n",
    "    return distance"
   ]
  },
  {
   "cell_type": "markdown",
   "metadata": {},
   "source": [
    "# Question 3"
   ]
  },
  {
   "cell_type": "code",
   "execution_count": 4,
   "metadata": {
    "collapsed": false
   },
   "outputs": [
    {
     "name": "stdout",
     "output_type": "stream",
     "text": [
      "[[-5.01 -5.43  1.08  0.86 -2.67  4.94 -2.51 -2.25  5.56  1.03]\n",
      " [-8.12 -3.48 -5.52 -3.78  0.63  3.29  2.09 -2.13  2.86 -3.33]\n",
      " [-3.68 -3.54  1.66 -4.11  7.39  2.08 -2.59 -6.94 -2.26  4.33]]\n"
     ]
    }
   ],
   "source": [
    "w1 = np.transpose([[-5.01, -8.12, -3.68],[-5.43, -3.48, -3.54], [1.08, -5.52, 1.66], \n",
    "               [0.86, -3.78, -4.11], [-2.67, 0.63, 7.39], [4.94, 3.29, 2.08], \n",
    "               [-2.51, 2.09, -2.59], [-2.25, -2.13, -6.94], [5.56, 2.86, -2.26], \n",
    "               [1.03, -3.33, 4.33]])\n",
    "Pw1 = 0.8\n",
    "Pw2 = 0.1\n",
    "Pw3 = 0.1\n",
    "print w1"
   ]
  },
  {
   "cell_type": "code",
   "execution_count": 5,
   "metadata": {
    "collapsed": true
   },
   "outputs": [],
   "source": [
    "def mean(x):\n",
    "    num_samples = x.shape[1]\n",
    "    sum = np.transpose([np.sum(x, axis=1)])\n",
    "    mean = (1.0/num_samples) * sum\n",
    "    return mean"
   ]
  },
  {
   "cell_type": "code",
   "execution_count": 6,
   "metadata": {
    "collapsed": false
   },
   "outputs": [],
   "source": [
    "def covariance(x, mu):\n",
    "    num_samples = x.shape[1]\n",
    "    x_mu = np.subtract(x, mu)\n",
    "    x_mu_t = np.transpose(x_mu)\n",
    "    return (1.0/num_samples) * np.dot(x_mu, x_mu_t)"
   ]
  },
  {
   "cell_type": "code",
   "execution_count": 7,
   "metadata": {
    "collapsed": false
   },
   "outputs": [],
   "source": [
    "m = mean(w1)\n",
    "c = covariance(w1, m)"
   ]
  },
  {
   "cell_type": "code",
   "execution_count": 11,
   "metadata": {
    "collapsed": false
   },
   "outputs": [
    {
     "data": {
      "text/plain": [
       "array([[-6.12838341, -5.20816068, -5.08098171, -4.9110998 , -3.88822708,\n",
       "        -3.05176233, -3.87648891, -4.84504409, -3.22986198, -4.56113407],\n",
       "       [-5.20816068, -5.55475565, -3.83308252, -4.24103898, -4.71170169,\n",
       "        -3.50487701, -5.21528502, -5.11778332, -3.54739914, -3.84706005],\n",
       "       [-5.08098171, -3.83308252, -5.90590044, -4.94333302, -4.16392611,\n",
       "        -4.34963835, -2.98844527, -3.75151154, -4.20554684, -5.55877827],\n",
       "       [-4.9110998 , -4.24103898, -4.94333302, -5.26280956, -3.0325491 ,\n",
       "        -4.3418122 , -3.86320419, -4.87524746, -4.92050426, -4.3895455 ],\n",
       "       [-3.88822708, -4.71170169, -4.16392611, -3.0325491 , -7.39845649,\n",
       "        -4.66110454, -5.08331042, -3.3080926 , -3.36564518, -5.16813086],\n",
       "       [-3.05176233, -3.50487701, -4.34963835, -4.3418122 , -4.66110454,\n",
       "        -5.8707332 , -4.55400416, -4.00219647, -5.78507582, -4.65993999],\n",
       "       [-3.87648891, -5.21528502, -2.98844527, -3.86320419, -5.08331042,\n",
       "        -4.55400416, -6.06324004, -5.13184399, -4.57664133, -3.42868074],\n",
       "       [-4.84504409, -5.11778332, -3.75151154, -4.87524746, -3.3080926 ,\n",
       "        -4.00219647, -5.13184399, -5.62854194, -4.70366026, -3.41722239],\n",
       "       [-3.22986198, -3.54739914, -4.20554684, -4.92050426, -3.36564518,\n",
       "        -5.78507582, -4.57664133, -4.70366026, -6.3322402 , -4.11456905],\n",
       "       [-4.56113407, -3.84706005, -5.55877827, -4.3895455 , -5.16813086,\n",
       "        -4.65993999, -3.42868074, -3.41722239, -4.11456905, -5.63608314]])"
      ]
     },
     "execution_count": 11,
     "metadata": {},
     "output_type": "execute_result"
    }
   ],
   "source": [
    "Discriminant(w1, m, c, Pw1)"
   ]
  },
  {
   "cell_type": "code",
   "execution_count": null,
   "metadata": {
    "collapsed": true
   },
   "outputs": [],
   "source": []
  }
 ],
 "metadata": {
  "kernelspec": {
   "display_name": "Python 2",
   "language": "python",
   "name": "python2"
  },
  "language_info": {
   "codemirror_mode": {
    "name": "ipython",
    "version": 2
   },
   "file_extension": ".py",
   "mimetype": "text/x-python",
   "name": "python",
   "nbconvert_exporter": "python",
   "pygments_lexer": "ipython2",
   "version": "2.7.11"
  }
 },
 "nbformat": 4,
 "nbformat_minor": 1
}
