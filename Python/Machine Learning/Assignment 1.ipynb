{
 "cells": [
  {
   "cell_type": "code",
   "execution_count": 1,
   "metadata": {
    "collapsed": true
   },
   "outputs": [],
   "source": [
    "import numpy as np\n",
    "import pylab\n",
    "import matplotlib.pyplot as plt\n",
    "from mpl_toolkits.mplot3d import Axes3D"
   ]
  },
  {
   "cell_type": "markdown",
   "metadata": {},
   "source": [
    "# Question 1"
   ]
  },
  {
   "cell_type": "code",
   "execution_count": 32,
   "metadata": {
    "collapsed": true
   },
   "outputs": [],
   "source": [
    "def MAP_Discriminant(x, mu, covariance, probability):\n",
    "    x_mu = np.subtract(x, mu)                                   # x - mu \n",
    "    x_mu_t = np.transpose(x_mu)                                 # (x - mu)t\n",
    "    covariance_inverse = np.linalg.inv(covariance)              # covariance ^ -1\n",
    "    d = mu.shape[0]                                             # num of dimensions \n",
    "    det = np.linalg.det(covariance)                             # | covariance |\n",
    "    # g(x):\n",
    "    disc = -0.5 * np.dot(x_mu_t, np.dot(covariance_inverse, x_mu)) - (d / 2) * np.log(np.pi / 2) - 0.5 * np.log(det) + np.log(probability)\n",
    "    return disc"
   ]
  },
  {
   "cell_type": "markdown",
   "metadata": {},
   "source": [
    "# Question 2"
   ]
  },
  {
   "cell_type": "code",
   "execution_count": 3,
   "metadata": {
    "collapsed": true
   },
   "outputs": [],
   "source": [
    "def Mahalanobis_Distance(x, mu, covariance):\n",
    "    x_mu = np.subtract(x, mu)                                   \n",
    "    x_mu_t = np.transpose(x_mu)\n",
    "    covariance_inverse = np.linalg.inv(covariance)\n",
    "    distance = np.dot(x_mu_t, np.dot(covariance_inverse, x_mu))\n",
    "    return distance"
   ]
  },
  {
   "cell_type": "markdown",
   "metadata": {},
   "source": [
    "# Question 3"
   ]
  },
  {
   "cell_type": "code",
   "execution_count": 90,
   "metadata": {
    "collapsed": false
   },
   "outputs": [],
   "source": [
    "x1 = np.array([[-5.01,-5.43,1.08,0.86,-2.67,4.94,-2.51,-2.25,5.56,1.03],\n",
    "      [-8.12,-3.48,-5.52,-3.78,0.63,3.29,2.09,-2.13,2.86,-3.33],\n",
    "      [-3.68,-3.54,1.66,-4.11,7.39,2.08,-2.59,-6.94,-2.26,4.33]])\n",
    "x2 = np.array([[-0.91,1.30,-7.75,-5.47,6.14,3.60,5.37,7.18,-7.39,-7.50],\n",
    "      [-0.18,-2.06,-4.54,0.50,5.72,1.26,-4.63,1.46,1.17,-6.32],\n",
    "      [-0.05,-3.53,-0.95,3.92,-4.85,4.36,-3.65,-6.66,6.30,-0.31]])\n",
    "x3 = np.array([[5.35,5.12,-1.34,4.48,7.11,7.17,5.75,0.77,0.90,3.52],\n",
    "      [2.26,3.22,-5.31,3.42,2.39,4.33,3.97,0.27,-0.43,-0.36],\n",
    "      [8.13,-2.66,-9.87,5.19,9.21,-0.98,6.65,2.41,-8.71,6.43]])\n",
    "\n",
    "prior = [0.8,0.1,0.1]"
   ]
  },
  {
   "cell_type": "code",
   "execution_count": 51,
   "metadata": {
    "collapsed": true
   },
   "outputs": [],
   "source": [
    "def mean(x):\n",
    "    num_samples = 10\n",
    "    sum = np.transpose([np.sum(x, axis=1)])\n",
    "    mean = (1.0/num_samples) * sum\n",
    "    return mean"
   ]
  },
  {
   "cell_type": "code",
   "execution_count": 49,
   "metadata": {
    "collapsed": false
   },
   "outputs": [],
   "source": [
    "def covariance(x, mu):\n",
    "    num_samples = x.shape[1]\n",
    "    x_mu = np.subtract(x, mu)\n",
    "    x_mu_t = np.transpose(x_mu)\n",
    "    return (1.0/num_samples) * np.dot(x_mu, x_mu_t)"
   ]
  },
  {
   "cell_type": "code",
   "execution_count": 94,
   "metadata": {
    "collapsed": false
   },
   "outputs": [],
   "source": [
    "mu = [mean(x1), mean(x2), mean(x3)]\n",
    "cov = [covariance(x1, mu[0]), covariance(x2, mu[1]), covariance(x3, mu[2])]"
   ]
  },
  {
   "cell_type": "code",
   "execution_count": 16,
   "metadata": {
    "collapsed": false
   },
   "outputs": [],
   "source": [
    "p1 = np.array([[1],[2],[1]])\n",
    "p2 = np.array([[5],[3],[1]])\n",
    "p3 = np.array([[0],[0],[0]])\n",
    "p4 = np.array([[1],[0],[0]])"
   ]
  },
  {
   "cell_type": "code",
   "execution_count": 30,
   "metadata": {
    "collapsed": false
   },
   "outputs": [],
   "source": [
    "def MAP_Classifier(test, mu, cov, prior):\n",
    "    disc = []\n",
    "    disc.append(MAP_Discriminant(test, mu[0], cov[0], prior[0]))\n",
    "    disc.append(MAP_Discriminant(test, mu[1], cov[1], prior[1]))\n",
    "    disc.append(MAP_Discriminant(test, mu[2], cov[2], prior[2]))\n",
    "    return disc.index(max(disc)) + 1"
   ]
  },
  {
   "cell_type": "code",
   "execution_count": 91,
   "metadata": {
    "collapsed": false
   },
   "outputs": [
    {
     "name": "stdout",
     "output_type": "stream",
     "text": [
      "-8.75 -8.75\n",
      "(13, 85)\n"
     ]
    }
   ],
   "source": [
    "xx, yy = np.meshgrid(np.arange(min(x_min), max(x_max), 0.2), np.arange(min(y_max), max(y_max), 0.2))\n",
    "print min(x_min), min(x_min)\n",
    "print yy.shape"
   ]
  },
  {
   "cell_type": "code",
   "execution_count": 96,
   "metadata": {
    "collapsed": false,
    "scrolled": true
   },
   "outputs": [
    {
     "data": {
      "image/png": "[encoded data removed]",
      "text/plain": [
       "<matplotlib.figure.Figure at 0x6698e90>"
      ]
     },
     "metadata": {},
     "output_type": "display_data"
    }
   ],
   "source": [
    "x_min = [x1[0, :].min(), x2[0, :].min(), x3[0, :].min()]\n",
    "x_max = [x1[0, :].max(), x2[0, :].max(), x3[0, :].max()]\n",
    "y_min = [x1[1, :].min(), x2[1, :].min(), x3[1, :].min()]\n",
    "y_max = [x1[1, :].max(), x2[1, :].max(), x3[1, :].max()]\n",
    "\n",
    "xx, yy = np.meshgrid(np.arange(min(x_min), max(x_max), 0.2), np.arange(min(y_min), max(y_max), 0.2))\n",
    "Z = np.zeros((xx.shape[0], xx.shape[1]))\n",
    "\n",
    "for i in range(xx.shape[0]):\n",
    "    for j in range(xx.shape[1]):\n",
    "        point = np.array([[xx[i,j]],[yy[i,j]],[2]])\n",
    "        Z[i, j] = MAP_Classifier(point, mu, cov, prior)\n",
    "        \n",
    "plt.contourf(xx, yy, Z, cmap=plt.cm.Paired)\n",
    "plt.show()"
   ]
  },
  {
   "cell_type": "code",
   "execution_count": 60,
   "metadata": {
    "collapsed": false
   },
   "outputs": [
    {
     "name": "stdout",
     "output_type": "stream",
     "text": [
      "1\n",
      "1\n",
      "1\n",
      "1\n"
     ]
    }
   ],
   "source": [
    "print MAP_Classifier(p1, mu, cov, prior)\n",
    "print MAP_Classifier(p2, mu, cov, prior)\n",
    "print MAP_Classifier(p3, mu, cov, prior)\n",
    "print MAP_Classifier(p4, mu, cov, prior)"
   ]
  },
  {
   "cell_type": "code",
   "execution_count": 102,
   "metadata": {
    "collapsed": false
   },
   "outputs": [],
   "source": [
    "p = [[[1], [2], [1]], [[5], [3], [1]], [[0], [0], [0]], [[1], [0], [0]]]"
   ]
  },
  {
   "cell_type": "code",
   "execution_count": 108,
   "metadata": {
    "collapsed": false
   },
   "outputs": [
    {
     "name": "stdout",
     "output_type": "stream",
     "text": [
      "[[[1], [2], [1]], [[5], [3], [1]], [[0], [0], [0]], [[1], [0], [0]]]\n",
      "[[1], [2], [1]]\n"
     ]
    }
   ],
   "source": [
    "print p\n",
    "print p[0][0], p[0][1]"
   ]
  },
  {
   "cell_type": "code",
   "execution_count": null,
   "metadata": {
    "collapsed": true
   },
   "outputs": [],
   "source": [
    ""
   ]
  }
 ],
 "metadata": {
  "kernelspec": {
   "display_name": "Python 2",
   "language": "python",
   "name": "python2"
  },
  "language_info": {
   "codemirror_mode": {
    "name": "ipython",
    "version": 2.0
   },
   "file_extension": ".py",
   "mimetype": "text/x-python",
   "name": "python",
   "nbconvert_exporter": "python",
   "pygments_lexer": "ipython2",
   "version": "2.7.11"
  }
 },
 "nbformat": 4,
 "nbformat_minor": 0
}