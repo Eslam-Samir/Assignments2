{
 "cells": [
  {
   "cell_type": "code",
   "execution_count": 1,
   "metadata": {
    "collapsed": true
   },
   "outputs": [],
   "source": [
    "import numpy as np\n",
    "import random\n",
    "import matplotlib.pyplot as plt"
   ]
  },
  {
   "cell_type": "markdown",
   "metadata": {},
   "source": [
    "# Generate Double Moon Data\n",
    "## Usage: data = dbmoon(N, d, r, w)\n",
    "</br> The data set contains two regions A and B representing 2 classes\n",
    "</br> each region is a half ring with radius r = 10, width = 6, one is upper half and the other is lower half\n",
    "</br></br> d: distance between the two regions\n",
    "</br> will generate region A centered at (0, 0) and region B is a mirror image of region A (w.r.t.x axis) with a (r, d) shift of origin\n",
    "</br></br> N:  # of samples each class, default = 1000\n",
    "</br> d: seperation of two class, negative value means overlapping (default=1)\n",
    "</br> r: radius (default=10), w: width of ring (default=6)"
   ]
  },
  {
   "cell_type": "code",
   "execution_count": 2,
   "metadata": {},
   "outputs": [],
   "source": [
    "def dbmoon(N=1000, d=1, r=10, w=6):\n",
    "    # generate region A:\n",
    "    # first generate a uniformly random distributed data points from (-r-w / 2, 0)\n",
    "    # to (r+w / 2, r+w / 2) \n",
    "    N1 = 10 * N  # generate more points and select those meet criteria\n",
    "    w2 = w / 2\n",
    "    done = 0\n",
    "    tmp1 = np.array([[]])\n",
    "    while not done:\n",
    "        tmp = np.array(2 * (r + w2) * (np.random.uniform(0, 1, (N1, 1)) - 0.5))\n",
    "        tmp = np.column_stack((tmp, (r + w2) * np.random.uniform(0, 1, (N1, 1))))\n",
    "        # 3rd column of tmp is the magnitude of each data point\n",
    "        thirdCol = np.sqrt(np.multiply(tmp[:, 0], tmp[:, 0]) + np.multiply(tmp[:, 1], tmp[:, 1]))\n",
    "        tmp = np.column_stack((tmp, thirdCol.T))\n",
    "        idx = np.nonzero(np.logical_and((tmp[:, 2] > (r - w2)), (tmp[:, 2] < (r + w2))))\n",
    "        if tmp1.shape == (1,0):\n",
    "            tmp1 = tmp[:, 0:2][idx]\n",
    "        else:\n",
    "            tmp1 = np.row_stack((tmp1, tmp[:, 0:2][idx]))\n",
    "        if len(idx[0]) >= N:\n",
    "            done = 1\n",
    "            # if not enough data point, generate more and test\n",
    "\n",
    "    # region A data and class label 0\n",
    "    # region B data is region A data flip y coordinate - d, and x coordinate +r\n",
    "    data = np.column_stack((tmp1[0:N, :], np.zeros((N, 1))))\n",
    "    data1 = np.column_stack(((tmp1[0:N, 0] + r), (-tmp1[0:N, 1] - d), np.ones((N, 1))))\n",
    "    data = np.row_stack((data, data1))\n",
    "    return data"
   ]
  },
  {
   "cell_type": "markdown",
   "metadata": {},
   "source": [
    "# Plot the double moon data"
   ]
  },
  {
   "cell_type": "code",
   "execution_count": 3,
   "metadata": {},
   "outputs": [],
   "source": [
    "def plot(data, target, mu):\n",
    "    idx = np.nonzero(target)\n",
    "    plt.plot(data[idx, 0], data[idx, 1], 'b.')\n",
    "    idx = np.where(target == 0)\n",
    "    plt.plot(data[idx, 0], data[idx, 1], 'r.')\n",
    "    plt.plot(mu[:, 0], mu[:, 1], 'gs')\n",
    "    plt.show()"
   ]
  },
  {
   "cell_type": "markdown",
   "metadata": {},
   "source": [
    "# Initialize Clusters Centers using K-Means method"
   ]
  },
  {
   "cell_type": "code",
   "execution_count": 4,
   "metadata": {},
   "outputs": [],
   "source": [
    "def k_means(data, k, threshold):\n",
    "    indices = random.sample(range(len(data)), k)\n",
    "    mu = np.array([data[i] for i in sorted(indices)])\n",
    "    segma = np.array([0. for i in range(k)])\n",
    "    old_cost = 0\n",
    "    while True:\n",
    "        distances = {}\n",
    "        for i in range(k):\n",
    "            distances[i] = np.sum(((data[:]-mu[i])**2), axis=1)\n",
    "            \n",
    "        clusters = {}\n",
    "        for i in range(k):\n",
    "            idx = np.where(distances[i] <= list((distances[j] for j in range(k) if j != i)))\n",
    "            clusters[i] = data[idx[1], :]\n",
    "            mu[i] = np.mean(clusters[i], axis=0)\n",
    "            segma[i] = np.max(np.sum((clusters[i]-mu[i])**2, axis=1))/np.sqrt(np.size(clusters[i], axis=0))\n",
    "            \n",
    "        # cost calculation\n",
    "        cost = 0\n",
    "        for i in range(k):\n",
    "            cost += np.sum(((clusters[i][:] - mu[i]) ** 2))\n",
    "        \n",
    "        if cost - old_cost <= threshold:\n",
    "            break\n",
    "        old_cost = cost\n",
    "        \n",
    "    return mu, segma"
   ]
  },
  {
   "cell_type": "markdown",
   "metadata": {},
   "source": [
    "# Data Initialization"
   ]
  },
  {
   "cell_type": "code",
   "execution_count": 20,
   "metadata": {},
   "outputs": [
    {
     "name": "stdout",
     "output_type": "stream",
     "text": [
      "[[ 0.43211344]\n [ 0.47152323]\n [ 0.92379072]\n [ 0.93425224]] [[-2.92131715  0.98552949]\n [-1.7299406   5.82042248]\n [ 6.35550945 -1.51759729]\n [ 7.69532962 -6.07461393]] [ 100.93951823   91.62888629   59.04974863   34.99729145]\n"
     ]
    }
   ],
   "source": [
    "NumberOfOutputUnits = 1\n",
    "NumberOfHiddenUnits = 4\n",
    "NumberOfInputsUnits = 2\n",
    "\n",
    "N = 10\n",
    "\n",
    "data = dbmoon(N)\n",
    "target = data[:, 2:3]\n",
    "data = data[:, 0:2]\n",
    "\n",
    "k_means_threshold = 0.00001\n",
    "\n",
    "initial_segma = np.random.rand(1, NumberOfHiddenUnits)\n",
    "initial_weights = np.random.rand(NumberOfHiddenUnits, NumberOfOutputUnits)\n",
    "initial_mu, initial_segma = k_means(data, NumberOfHiddenUnits, k_means_threshold)\n",
    "\n",
    "print initial_weights, initial_mu, initial_segma \n",
    "stepsize_w = 0.1\n",
    "stepsize_mu = 0.1\n",
    "stepsize_segma = 0.1"
   ]
  },
  {
   "cell_type": "code",
   "execution_count": 6,
   "metadata": {},
   "outputs": [],
   "source": [
    "def forward(data, weights, mu, segma):\n",
    "    data = data[:, 0:2]\n",
    "    net = data[:, 0:1]\n",
    "    \n",
    "    for i in range(len(mu[:])):\n",
    "        col = sum(((data[:, ] - mu[i, ])**2).T)\n",
    "        net = np.column_stack((net, col))\n",
    "    \n",
    "    net = net[:, 1:]\n",
    "    act = np.exp(-net/(2*segma**2))\n",
    "    output = np.dot(act, weights)\n",
    "    return net, act, output"
   ]
  },
  {
   "cell_type": "code",
   "execution_count": 7,
   "metadata": {},
   "outputs": [],
   "source": [
    "def cost(target, output):\n",
    "    return 0.5 * np.sum((target - output)**2)"
   ]
  },
  {
   "cell_type": "code",
   "execution_count": 8,
   "metadata": {},
   "outputs": [],
   "source": [
    "def update_parameters(data, target, weights, mu, segma):\n",
    "    net, act, output = forward(data, weights, mu, segma)\n",
    "    dEdy = -(target - output)\n",
    "    dEdW = np.dot(act.T, dEdy)\n",
    "    dydnet = np.dot(act, ((-1*weights)/(2*segma**2).T)) \n",
    "    \n",
    "    summation = [0, 0]\n",
    "    for i in range(len(mu[:, ])):\n",
    "        row = sum((data[:] - mu[i, ]))\n",
    "        summation = np.row_stack((summation, row))\n",
    "    dnetdmu = -2 * summation[1:, :]\n",
    "    dEdMu = np.dot(dydnet.T, dEdy) * dnetdmu\n",
    "    \n",
    "    dEdact = np.dot(dEdy, weights.T)\n",
    "    dEdSegma = np.sum(dEdact * net * act, axis=0) / segma**3\n",
    "    \n",
    "    return dEdW, dEdMu, dEdSegma"
   ]
  },
  {
   "cell_type": "code",
   "execution_count": 21,
   "metadata": {},
   "outputs": [
    {
     "name": "stdout",
     "output_type": "stream",
     "text": [
      "1987.02002155\n"
     ]
    },
    {
     "name": "stdout",
     "output_type": "stream",
     "text": [
      "5.10276386732\n5.04630695225\n"
     ]
    },
    {
     "name": "stdout",
     "output_type": "stream",
     "text": [
      "5.02875860766\n5.02044668943\n"
     ]
    },
    {
     "name": "stdout",
     "output_type": "stream",
     "text": [
      "5.01567269481\n"
     ]
    },
    {
     "name": "stdout",
     "output_type": "stream",
     "text": [
      "5.01260417115\n5.01047998352\n"
     ]
    },
    {
     "name": "stdout",
     "output_type": "stream",
     "text": [
      "5.00892991954\n"
     ]
    },
    {
     "name": "stdout",
     "output_type": "stream",
     "text": [
      "5.00775330678\n"
     ]
    },
    {
     "name": "stdout",
     "output_type": "stream",
     "text": [
      "5.00683320593\n"
     ]
    }
   ],
   "source": [
    "weights = initial_weights\n",
    "mu = initial_mu\n",
    "segma = initial_segma\n",
    "\n",
    "for i in range(0, 10000):\n",
    "    dEdW, dEdMu, dEdSegma = update_parameters(data, target, weights, mu, segma)\n",
    "    weights -= stepsize_w * dEdW\n",
    "    mu -= stepsize_mu * dEdMu\n",
    "    segma -= stepsize_segma * dEdSegma\n",
    "    if (i%1000) == 0:\n",
    "        net, act, output = forward(data, weights, mu, segma)\n",
    "        print cost(target, output)\n",
    "    \n",
    "net, act, output = forward(data, weights, mu, segma)\n",
    "print cost(target, output)"
   ]
  },
  {
   "cell_type": "code",
   "execution_count": 22,
   "metadata": {},
   "outputs": [
    {
     "data": {
      "image/png": "[encoded data removed]",
      "text/plain": [
       "<matplotlib.figure.Figure at 0x60b3090>"
      ]
     },
     "metadata": {},
     "output_type": "display_data"
    }
   ],
   "source": [
    "plot(data, target, mu)"
   ]
  },
  {
   "cell_type": "code",
   "execution_count": 23,
   "metadata": {},
   "outputs": [
    {
     "name": "stdout",
     "output_type": "stream",
     "text": [
      "[[-0.00229866]\n [-0.00194194]\n [-0.00202984]\n [-0.00206249]\n [-0.00161349]\n [-0.00071885]\n [-0.00182846]\n [-0.00076003]\n [-0.00123693]\n [-0.00073154]\n [-0.00120789]\n [-0.00075139]\n [-0.00100896]\n [-0.00101964]\n [-0.00058983]\n [-0.0003636 ]\n [-0.00075599]\n [-0.00031195]\n [-0.00045501]\n [-0.00035289]]\n[[ 0.]\n [ 0.]\n [ 0.]\n [ 0.]\n [ 0.]\n [ 0.]\n [ 0.]\n [ 0.]\n [ 0.]\n [ 0.]\n [ 1.]\n [ 1.]\n [ 1.]\n [ 1.]\n [ 1.]\n [ 1.]\n [ 1.]\n [ 1.]\n [ 1.]\n [ 1.]]\n5.00683320593\n[[  8.29336507e-03  -2.18859507e-03]\n [  6.59561543e-03  -9.39358694e-03]\n [ -1.27958066e-01   3.56971199e-02]\n [ -3.43650959e+02   3.84108610e+02]]\n[[ -5.65717383e-05]\n [ -2.67981154e-12]\n [  0.00000000e+00]\n [  0.00000000e+00]]\n[  2.11864085e-03   2.08629121e-10   0.00000000e+00  -0.00000000e+00]\n[[-121.0719544 ]\n [-121.38681186]\n [-118.21873117]\n [  -6.03196555]]\n[[ -3.60833682e+02   9.54375681e+01]\n [ -3.86367554e+02   5.53627810e+02]\n [  2.73098371e+03  -7.61621146e+02]\n [  1.32810802e+06  -1.48446220e+06]]\n[ 77.4901692   89.89292735  54.04380699 -23.00851059]\n"
     ]
    }
   ],
   "source": [
    "weights = initial_weights\n",
    "mu = initial_mu\n",
    "segma = initial_segma\n",
    "a, b, out = forward(data, initial_weights, initial_mu, initial_segma)\n",
    "print out\n",
    "print target\n",
    "print cost(target, out)\n",
    "\n",
    "dEdW, dEdMu, dEdSegma = update_parameters(data, target, weights, mu, segma)\n",
    "print dEdMu\n",
    "print dEdW\n",
    "print dEdSegma\n",
    "\n",
    "weights -=  dEdW\n",
    "mu -= stepsize_mu * dEdMu\n",
    "segma -= stepsize_segma * dEdSegma\n",
    "\n",
    "print weights\n",
    "print mu\n",
    "print segma"
   ]
  },
  {
   "cell_type": "code",
   "execution_count": 15,
   "metadata": {},
   "outputs": [],
   "source": [
    ""
   ]
  },
  {
   "cell_type": "code",
   "execution_count": null,
   "metadata": {},
   "outputs": [],
   "source": [
    ""
   ]
  }
 ],
 "metadata": {
  "kernelspec": {
   "display_name": "Python 2",
   "language": "python",
   "name": "python2"
  },
  "language_info": {
   "codemirror_mode": {
    "name": "ipython",
    "version": 2.0
   },
   "file_extension": ".py",
   "mimetype": "text/x-python",
   "name": "python",
   "nbconvert_exporter": "python",
   "pygments_lexer": "ipython2",
   "version": "2.7.6"
  }
 },
 "nbformat": 4,
 "nbformat_minor": 0
}